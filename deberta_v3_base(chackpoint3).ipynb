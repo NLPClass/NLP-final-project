{
 "cells": [
  {
   "cell_type": "code",
   "execution_count": null,
   "metadata": {
    "_kg_hide-output": true,
    "execution": {
     "iopub.execute_input": "2025-05-21T08:13:20.214077Z",
     "iopub.status.busy": "2025-05-21T08:13:20.213821Z",
     "iopub.status.idle": "2025-05-21T08:13:36.175771Z",
     "shell.execute_reply": "2025-05-21T08:13:36.174916Z",
     "shell.execute_reply.started": "2025-05-21T08:13:20.214055Z"
    },
    "papermill": {
     "duration": 17.47085,
     "end_time": "2025-05-08T13:55:38.620539",
     "exception": false,
     "start_time": "2025-05-08T13:55:21.149689",
     "status": "completed"
    },
    "tags": [],
    "trusted": true
   },
   "outputs": [],
   "source": [
    "import os\n",
    "os.environ[\"KERAS_BACKEND\"] = \"jax\"  # or \"tensorflow\" or \"torch\"\n",
    "\n",
    "import keras_nlp\n",
    "import keras\n",
    "import tensorflow as tf\n",
    "\n",
    "import numpy as np \n",
    "import pandas as pd\n",
    "from tqdm import tqdm\n",
    "import json\n",
    "\n",
    "import matplotlib.pyplot as plt\n",
    "import matplotlib as mpl\n",
    "import plotly.express as px"
   ]
  },
  {
   "cell_type": "code",
   "execution_count": null,
   "metadata": {
    "execution": {
     "iopub.execute_input": "2025-05-21T08:13:36.177918Z",
     "iopub.status.busy": "2025-05-21T08:13:36.177461Z",
     "iopub.status.idle": "2025-05-21T08:13:38.566109Z",
     "shell.execute_reply": "2025-05-21T08:13:38.565577Z",
     "shell.execute_reply.started": "2025-05-21T08:13:36.177899Z"
    },
    "papermill": {
     "duration": 2.582705,
     "end_time": "2025-05-08T13:55:41.210496",
     "exception": false,
     "start_time": "2025-05-08T13:55:38.627791",
     "status": "completed"
    },
    "tags": [],
    "trusted": true
   },
   "outputs": [],
   "source": [
    "import wandb\n",
    "\n",
    "# 將這行放在程式最前面，替換 YOUR_API_KEY 為你的實際 key\n",
    "key=\"cfbd7f24413a77f911641acae8914b1dc77e1b83\""
   ]
  },
  {
   "cell_type": "code",
   "execution_count": null,
   "metadata": {
    "execution": {
     "iopub.execute_input": "2025-05-21T08:13:38.567084Z",
     "iopub.status.busy": "2025-05-21T08:13:38.566822Z",
     "iopub.status.idle": "2025-05-21T08:13:38.570611Z",
     "shell.execute_reply": "2025-05-21T08:13:38.569791Z",
     "shell.execute_reply.started": "2025-05-21T08:13:38.567061Z"
    },
    "papermill": {
     "duration": 0.011718,
     "end_time": "2025-05-08T13:55:41.229394",
     "exception": false,
     "start_time": "2025-05-08T13:55:41.217676",
     "status": "completed"
    },
    "tags": [],
    "trusted": true
   },
   "outputs": [],
   "source": [
    "#!pip install --upgrade wandb  # 確保使用最新版本\n",
    "#from wandb.keras import WandbCallback\n",
    "\n",
    "#wandb.login(key=\"cfbd7f24413a77f911641acae8914b1dc77e1b83\")\n",
    "#wandb.init(project=\"kerasnlp-training\", name=\"your-run-name\")  # 自訂專案與實驗名稱"
   ]
  },
  {
   "cell_type": "code",
   "execution_count": null,
   "metadata": {
    "_kg_hide-input": true,
    "execution": {
     "iopub.execute_input": "2025-05-21T08:13:38.571957Z",
     "iopub.status.busy": "2025-05-21T08:13:38.571556Z",
     "iopub.status.idle": "2025-05-21T08:13:38.653403Z",
     "shell.execute_reply": "2025-05-21T08:13:38.652750Z",
     "shell.execute_reply.started": "2025-05-21T08:13:38.571930Z"
    },
    "papermill": {
     "duration": 0.012127,
     "end_time": "2025-05-08T13:55:41.261744",
     "exception": false,
     "start_time": "2025-05-08T13:55:41.249617",
     "status": "completed"
    },
    "tags": [],
    "trusted": true
   },
   "outputs": [],
   "source": [
    "print(\"TensorFlow:\", tf.__version__)\n",
    "print(\"Keras:\", keras.__version__)\n",
    "print(\"KerasNLP:\", keras_nlp.__version__)"
   ]
  },
  {
   "cell_type": "code",
   "execution_count": null,
   "metadata": {
    "_kg_hide-input": true,
    "execution": {
     "iopub.execute_input": "2025-05-21T08:13:38.655822Z",
     "iopub.status.busy": "2025-05-21T08:13:38.655367Z",
     "iopub.status.idle": "2025-05-21T08:13:38.664101Z",
     "shell.execute_reply": "2025-05-21T08:13:38.663418Z",
     "shell.execute_reply.started": "2025-05-21T08:13:38.655796Z"
    },
    "papermill": {
     "duration": 0.012222,
     "end_time": "2025-05-08T13:55:41.294379",
     "exception": false,
     "start_time": "2025-05-08T13:55:41.282157",
     "status": "completed"
    },
    "tags": [],
    "trusted": true
   },
   "outputs": [],
   "source": [
    "class CFG:\n",
    "    seed = 42  # Random seed\n",
    "    preset = \"deberta_v3_base\" # Name of pretrained models\n",
    "    sequence_length = 384  # Input sequence length (512 to 384)\n",
    "    epochs = 6 # Training epochs\n",
    "    batch_size = 4  # Batch size (16 to 4)\n",
    "    scheduler = 'cosine'  # Learning rate scheduler\n",
    "    label2name = {0: 'winner_model_a', 1: 'winner_model_b', 2: 'winner_tie'}\n",
    "    name2label = {v:k for k, v in label2name.items()}\n",
    "    class_labels = list(label2name.keys())\n",
    "    class_names = list(label2name.values())"
   ]
  },
  {
   "cell_type": "code",
   "execution_count": null,
   "metadata": {
    "execution": {
     "iopub.execute_input": "2025-05-21T08:13:38.665415Z",
     "iopub.status.busy": "2025-05-21T08:13:38.664942Z",
     "iopub.status.idle": "2025-05-21T08:13:38.675655Z",
     "shell.execute_reply": "2025-05-21T08:13:38.674803Z",
     "shell.execute_reply.started": "2025-05-21T08:13:38.665390Z"
    },
    "papermill": {
     "duration": 0.011497,
     "end_time": "2025-05-08T13:55:41.326362",
     "exception": false,
     "start_time": "2025-05-08T13:55:41.314865",
     "status": "completed"
    },
    "tags": [],
    "trusted": true
   },
   "outputs": [],
   "source": [
    "keras.utils.set_random_seed(CFG.seed)"
   ]
  },
  {
   "cell_type": "code",
   "execution_count": null,
   "metadata": {
    "execution": {
     "iopub.execute_input": "2025-05-21T08:13:38.677122Z",
     "iopub.status.busy": "2025-05-21T08:13:38.676825Z",
     "iopub.status.idle": "2025-05-21T08:13:38.686247Z",
     "shell.execute_reply": "2025-05-21T08:13:38.685628Z",
     "shell.execute_reply.started": "2025-05-21T08:13:38.677098Z"
    },
    "papermill": {
     "duration": 0.011221,
     "end_time": "2025-05-08T13:55:41.357983",
     "exception": false,
     "start_time": "2025-05-08T13:55:41.346762",
     "status": "completed"
    },
    "tags": [],
    "trusted": true
   },
   "outputs": [],
   "source": [
    "keras.mixed_precision.set_global_policy(\"mixed_float16\")"
   ]
  },
  {
   "cell_type": "code",
   "execution_count": null,
   "metadata": {
    "execution": {
     "iopub.execute_input": "2025-05-21T08:13:38.687736Z",
     "iopub.status.busy": "2025-05-21T08:13:38.687019Z",
     "iopub.status.idle": "2025-05-21T08:13:38.697703Z",
     "shell.execute_reply": "2025-05-21T08:13:38.697007Z",
     "shell.execute_reply.started": "2025-05-21T08:13:38.687712Z"
    },
    "papermill": {
     "duration": 0.011252,
     "end_time": "2025-05-08T13:55:41.390267",
     "exception": false,
     "start_time": "2025-05-08T13:55:41.379015",
     "status": "completed"
    },
    "tags": [],
    "trusted": true
   },
   "outputs": [],
   "source": [
    "BASE_PATH = '/kaggle/input/llm-classification-finetuning'"
   ]
  },
  {
   "cell_type": "code",
   "execution_count": null,
   "metadata": {
    "_kg_hide-input": true,
    "execution": {
     "iopub.execute_input": "2025-05-21T08:13:38.699291Z",
     "iopub.status.busy": "2025-05-21T08:13:38.698498Z",
     "iopub.status.idle": "2025-05-21T08:13:46.569734Z",
     "shell.execute_reply": "2025-05-21T08:13:46.569013Z",
     "shell.execute_reply.started": "2025-05-21T08:13:38.699256Z"
    },
    "papermill": {
     "duration": 7.15444,
     "end_time": "2025-05-08T13:55:48.620981",
     "exception": false,
     "start_time": "2025-05-08T13:55:41.466541",
     "status": "completed"
    },
    "tags": [],
    "trusted": true
   },
   "outputs": [],
   "source": [
    "# Load Train Data\n",
    "df = pd.read_csv(f'{BASE_PATH}/train.csv') \n",
    "\n",
    "# Sample data\n",
    "# df = df.sample(frac=0.10)\n",
    "\n",
    "# Take the first prompt and its associated response\n",
    "df[\"prompt\"] = df.prompt.map(lambda x: eval(x)[0])\n",
    "df[\"response_a\"] = df.response_a.map(lambda x: eval(x.replace(\"null\",\"''\"))[0])\n",
    "df[\"response_b\"] = df.response_b.map(lambda x: eval(x.replace(\"null\", \"''\"))[0])\n",
    "\n",
    "# Label conversion\n",
    "df[\"class_name\"] = df[[\"winner_model_a\", \"winner_model_b\" , \"winner_tie\"]].idxmax(axis=1)\n",
    "df[\"class_label\"] = df.class_name.map(CFG.name2label)\n",
    "\n",
    "# Show Sample\n",
    "df.head()"
   ]
  },
  {
   "cell_type": "code",
   "execution_count": null,
   "metadata": {
    "execution": {
     "iopub.execute_input": "2025-05-21T08:13:46.570754Z",
     "iopub.status.busy": "2025-05-21T08:13:46.570453Z",
     "iopub.status.idle": "2025-05-21T08:13:46.608639Z",
     "shell.execute_reply": "2025-05-21T08:13:46.607791Z",
     "shell.execute_reply.started": "2025-05-21T08:13:46.570731Z"
    },
    "papermill": {
     "duration": 0.044288,
     "end_time": "2025-05-08T13:55:48.672982",
     "exception": false,
     "start_time": "2025-05-08T13:55:48.628694",
     "status": "completed"
    },
    "tags": [],
    "trusted": true
   },
   "outputs": [],
   "source": [
    "# 檢查缺失值\n",
    "missing_values = df.isnull().sum()\n",
    "print(\"缺失值統計：\")\n",
    "print(missing_values)\n",
    "\n",
    "# 如果你只想列出有缺失值的欄位\n",
    "missing_columns = missing_values[missing_values > 0]\n",
    "print(\"\\n有缺失值的欄位：\")\n",
    "print(missing_columns)\n"
   ]
  },
  {
   "cell_type": "code",
   "execution_count": null,
   "metadata": {
    "execution": {
     "iopub.execute_input": "2025-05-21T08:13:46.609842Z",
     "iopub.status.busy": "2025-05-21T08:13:46.609589Z",
     "iopub.status.idle": "2025-05-21T08:13:46.629882Z",
     "shell.execute_reply": "2025-05-21T08:13:46.629315Z",
     "shell.execute_reply.started": "2025-05-21T08:13:46.609817Z"
    },
    "papermill": {
     "duration": 0.021446,
     "end_time": "2025-05-08T13:55:48.716809",
     "exception": false,
     "start_time": "2025-05-08T13:55:48.695363",
     "status": "completed"
    },
    "tags": [],
    "trusted": true
   },
   "outputs": [],
   "source": [
    "# Load Test Data\n",
    "test_df = pd.read_csv(f'{BASE_PATH}/test.csv')\n",
    "\n",
    "# Take the first prompt and response\n",
    "test_df[\"prompt\"] = test_df.prompt.map(lambda x: eval(x)[0])\n",
    "test_df[\"response_a\"] = test_df.response_a.map(lambda x: eval(x.replace(\"null\",\"''\"))[0])\n",
    "test_df[\"response_b\"] = test_df.response_b.map(lambda x: eval(x.replace(\"null\", \"''\"))[0])\n",
    "\n",
    "# Show Sample\n",
    "test_df.head()"
   ]
  },
  {
   "cell_type": "markdown",
   "metadata": {
    "papermill": {
     "duration": 0.007277,
     "end_time": "2025-05-08T13:55:48.731756",
     "exception": false,
     "start_time": "2025-05-08T13:55:48.724479",
     "status": "completed"
    },
    "tags": []
   },
   "source": [
    "### Alec 查看資料狀態"
   ]
  },
  {
   "cell_type": "code",
   "execution_count": null,
   "metadata": {
    "execution": {
     "iopub.execute_input": "2025-05-21T08:13:46.630648Z",
     "iopub.status.busy": "2025-05-21T08:13:46.630469Z",
     "iopub.status.idle": "2025-05-21T08:13:46.886412Z",
     "shell.execute_reply": "2025-05-21T08:13:46.885797Z",
     "shell.execute_reply.started": "2025-05-21T08:13:46.630632Z"
    },
    "papermill": {
     "duration": 0.274984,
     "end_time": "2025-05-08T13:55:49.014144",
     "exception": false,
     "start_time": "2025-05-08T13:55:48.739160",
     "status": "completed"
    },
    "tags": [],
    "trusted": true
   },
   "outputs": [],
   "source": [
    "winner = df[['winner_model_a','winner_model_b','winner_tie']].idxmax(axis=1).map({\n",
    "    'winner_model_a':'A_win',\n",
    "    'winner_model_b':'B_win',\n",
    "    'winner_tie':'Tie'\n",
    "})\n",
    "counts = winner.value_counts(normalize=True)\n",
    "counts.plot.bar(title='Winner Distribution')\n",
    "plt.ylabel('Proportion')\n",
    "plt.show()\n",
    "print(counts)"
   ]
  },
  {
   "cell_type": "code",
   "execution_count": null,
   "metadata": {
    "execution": {
     "iopub.execute_input": "2025-05-21T08:13:46.887668Z",
     "iopub.status.busy": "2025-05-21T08:13:46.887397Z",
     "iopub.status.idle": "2025-05-21T08:13:46.929928Z",
     "shell.execute_reply": "2025-05-21T08:13:46.929332Z",
     "shell.execute_reply.started": "2025-05-21T08:13:46.887651Z"
    },
    "papermill": {
     "duration": 0.052538,
     "end_time": "2025-05-08T13:55:49.075017",
     "exception": false,
     "start_time": "2025-05-08T13:55:49.022479",
     "status": "completed"
    },
    "tags": [],
    "trusted": true
   },
   "outputs": [],
   "source": [
    "pair_stats = (\n",
    "    df\n",
    "    .groupby(['model_a','model_b'])\n",
    "    .agg(total=('id','size'),\n",
    "         a_wins=('winner_model_a','sum'),\n",
    "         b_wins=('winner_model_b','sum'),\n",
    "         ties=('winner_tie','sum'))\n",
    "    .assign(\n",
    "        a_win_rate=lambda d: d['a_wins']/d['total'],\n",
    "        b_win_rate=lambda d: d['b_wins']/d['total'],\n",
    "        tie_rate=lambda d: d['ties']/d['total']\n",
    "    )\n",
    "    .sort_values('total', ascending=False)\n",
    ")\n",
    "display(pair_stats.head(10))"
   ]
  },
  {
   "cell_type": "code",
   "execution_count": null,
   "metadata": {
    "execution": {
     "iopub.execute_input": "2025-05-21T08:13:46.933041Z",
     "iopub.status.busy": "2025-05-21T08:13:46.932809Z",
     "iopub.status.idle": "2025-05-21T08:13:46.938145Z",
     "shell.execute_reply": "2025-05-21T08:13:46.937502Z",
     "shell.execute_reply.started": "2025-05-21T08:13:46.933018Z"
    },
    "papermill": {
     "duration": 0.01445,
     "end_time": "2025-05-08T13:55:49.130699",
     "exception": false,
     "start_time": "2025-05-08T13:55:49.116249",
     "status": "completed"
    },
    "tags": [],
    "trusted": true
   },
   "outputs": [],
   "source": [
    "# Define a function to create options based on the prompt and choices\n",
    "def make_pairs(row):\n",
    "    row[\"encode_fail\"] = False\n",
    "    try:\n",
    "        prompt = row.prompt.encode(\"utf-8\").decode(\"utf-8\")\n",
    "    except:\n",
    "        prompt = \"\"\n",
    "        row[\"encode_fail\"] = True\n",
    "\n",
    "    try:\n",
    "        response_a = row.response_a.encode(\"utf-8\").decode(\"utf-8\")\n",
    "    except:\n",
    "        response_a = \"\"\n",
    "        row[\"encode_fail\"] = True\n",
    "\n",
    "    try:\n",
    "        response_b = row.response_b.encode(\"utf-8\").decode(\"utf-8\")\n",
    "    except:\n",
    "        response_b = \"\"\n",
    "        row[\"encode_fail\"] = True\n",
    "        \n",
    "    row['options'] = [f\"Prompt: {prompt}\\n\\nResponse: {response_a}\",  # Response from Model A\n",
    "                      f\"Prompt: {prompt}\\n\\nResponse: {response_b}\"  # Response from Model B\n",
    "                     ]\n",
    "    return row\n"
   ]
  },
  {
   "cell_type": "code",
   "execution_count": null,
   "metadata": {
    "execution": {
     "iopub.execute_input": "2025-05-21T08:13:46.939102Z",
     "iopub.status.busy": "2025-05-21T08:13:46.938830Z",
     "iopub.status.idle": "2025-05-21T08:14:33.862940Z",
     "shell.execute_reply": "2025-05-21T08:14:33.862126Z",
     "shell.execute_reply.started": "2025-05-21T08:13:46.939078Z"
    },
    "papermill": {
     "duration": 45.33819,
     "end_time": "2025-05-08T13:56:34.477034",
     "exception": false,
     "start_time": "2025-05-08T13:55:49.138844",
     "status": "completed"
    },
    "tags": [],
    "trusted": true
   },
   "outputs": [],
   "source": [
    "df = df.apply(make_pairs, axis=1)  # Apply the make_pairs function to each row in df\n",
    "display(df.head(2))  # Display the first 2 rows of df\n",
    "\n",
    "test_df = test_df.apply(make_pairs, axis=1)  # Apply the make_pairs function to each row in df\n",
    "display(test_df.head(2))  # Display the first 2 rows of df"
   ]
  },
  {
   "cell_type": "code",
   "execution_count": null,
   "metadata": {
    "execution": {
     "iopub.execute_input": "2025-05-21T08:14:33.864215Z",
     "iopub.status.busy": "2025-05-21T08:14:33.863946Z",
     "iopub.status.idle": "2025-05-21T08:14:33.871882Z",
     "shell.execute_reply": "2025-05-21T08:14:33.871005Z",
     "shell.execute_reply.started": "2025-05-21T08:14:33.864187Z"
    },
    "papermill": {
     "duration": 0.017467,
     "end_time": "2025-05-08T13:56:34.520313",
     "exception": false,
     "start_time": "2025-05-08T13:56:34.502846",
     "status": "completed"
    },
    "tags": [],
    "trusted": true
   },
   "outputs": [],
   "source": [
    "df.encode_fail.value_counts(normalize=False)"
   ]
  },
  {
   "cell_type": "code",
   "execution_count": null,
   "metadata": {
    "execution": {
     "iopub.execute_input": "2025-05-21T08:14:33.873211Z",
     "iopub.status.busy": "2025-05-21T08:14:33.872847Z",
     "iopub.status.idle": "2025-05-21T08:14:34.082200Z",
     "shell.execute_reply": "2025-05-21T08:14:34.081470Z",
     "shell.execute_reply.started": "2025-05-21T08:14:33.873192Z"
    },
    "papermill": {
     "duration": 0.19646,
     "end_time": "2025-05-08T13:56:34.759270",
     "exception": false,
     "start_time": "2025-05-08T13:56:34.562810",
     "status": "completed"
    },
    "tags": [],
    "trusted": true
   },
   "outputs": [],
   "source": [
    "import plotly.io as pio\n",
    "pio.renderers.default = 'notebook_connected'"
   ]
  },
  {
   "cell_type": "code",
   "execution_count": null,
   "metadata": {
    "_kg_hide-input": true,
    "execution": {
     "iopub.execute_input": "2025-05-21T08:14:35.365503Z",
     "iopub.status.busy": "2025-05-21T08:14:35.365298Z",
     "iopub.status.idle": "2025-05-21T08:14:35.534694Z",
     "shell.execute_reply": "2025-05-21T08:14:35.534166Z",
     "shell.execute_reply.started": "2025-05-21T08:14:35.365488Z"
    },
    "papermill": {
     "duration": 1.036741,
     "end_time": "2025-05-08T13:56:37.309740",
     "exception": false,
     "start_time": "2025-05-08T13:56:36.272999",
     "status": "completed"
    },
    "tags": [],
    "trusted": true
   },
   "outputs": [],
   "source": [
    "from sklearn.model_selection import train_test_split  # Import package\n",
    "\n",
    "train_df, valid_df = train_test_split(df, test_size=0.2, stratify=df[\"class_label\"])"
   ]
  },
  {
   "cell_type": "code",
   "execution_count": null,
   "metadata": {
    "execution": {
     "iopub.execute_input": "2025-05-21T08:14:35.535629Z",
     "iopub.status.busy": "2025-05-21T08:14:35.535362Z",
     "iopub.status.idle": "2025-05-21T08:14:40.539593Z",
     "shell.execute_reply": "2025-05-21T08:14:40.538980Z",
     "shell.execute_reply.started": "2025-05-21T08:14:35.535608Z"
    },
    "papermill": {
     "duration": 3.240533,
     "end_time": "2025-05-08T13:56:40.577849",
     "exception": false,
     "start_time": "2025-05-08T13:56:37.337316",
     "status": "completed"
    },
    "tags": [],
    "trusted": true
   },
   "outputs": [],
   "source": [
    "preprocessor = keras_nlp.models.DebertaV3Preprocessor.from_preset(\n",
    "    preset=CFG.preset, # Name of the model\n",
    "    sequence_length=CFG.sequence_length, # Max sequence length, will be padded if shorter\n",
    ")"
   ]
  },
  {
   "cell_type": "code",
   "execution_count": null,
   "metadata": {
    "execution": {
     "iopub.execute_input": "2025-05-21T08:14:40.540495Z",
     "iopub.status.busy": "2025-05-21T08:14:40.540279Z",
     "iopub.status.idle": "2025-05-21T08:14:41.849058Z",
     "shell.execute_reply": "2025-05-21T08:14:41.848214Z",
     "shell.execute_reply.started": "2025-05-21T08:14:40.540479Z"
    },
    "papermill": {
     "duration": 1.410302,
     "end_time": "2025-05-08T13:56:42.016122",
     "exception": false,
     "start_time": "2025-05-08T13:56:40.605820",
     "status": "completed"
    },
    "tags": [],
    "trusted": true
   },
   "outputs": [],
   "source": [
    "outs = preprocessor(df.options.iloc[0])  # Process options for the first row\n",
    "\n",
    "# Display the shape of each processed output\n",
    "for k, v in outs.items():\n",
    "    print(k, \":\", v.shape)"
   ]
  },
  {
   "cell_type": "code",
   "execution_count": null,
   "metadata": {
    "execution": {
     "iopub.execute_input": "2025-05-21T08:14:41.850179Z",
     "iopub.status.busy": "2025-05-21T08:14:41.849897Z",
     "iopub.status.idle": "2025-05-21T08:14:41.854239Z",
     "shell.execute_reply": "2025-05-21T08:14:41.853404Z",
     "shell.execute_reply.started": "2025-05-21T08:14:41.850160Z"
    },
    "papermill": {
     "duration": 0.014725,
     "end_time": "2025-05-08T13:56:42.059163",
     "exception": false,
     "start_time": "2025-05-08T13:56:42.044438",
     "status": "completed"
    },
    "tags": [],
    "trusted": true
   },
   "outputs": [],
   "source": [
    "def preprocess_fn(text, label=None):\n",
    "    text = preprocessor(text)  # Preprocess text\n",
    "    return (text, label) if label is not None else text  # Return processed text and label if available"
   ]
  },
  {
   "cell_type": "code",
   "execution_count": null,
   "metadata": {
    "_kg_hide-input": true,
    "execution": {
     "iopub.execute_input": "2025-05-21T08:14:41.855783Z",
     "iopub.status.busy": "2025-05-21T08:14:41.855137Z",
     "iopub.status.idle": "2025-05-21T08:14:41.868043Z",
     "shell.execute_reply": "2025-05-21T08:14:41.867299Z",
     "shell.execute_reply.started": "2025-05-21T08:14:41.855766Z"
    },
    "papermill": {
     "duration": 0.01996,
     "end_time": "2025-05-08T13:56:42.110372",
     "exception": false,
     "start_time": "2025-05-08T13:56:42.090412",
     "status": "completed"
    },
    "tags": [],
    "trusted": true
   },
   "outputs": [],
   "source": [
    "def build_dataset(texts, labels=None, batch_size=32,\n",
    "                  cache=True, shuffle=1024):\n",
    "    AUTO = tf.data.AUTOTUNE  # AUTOTUNE option\n",
    "    slices = (texts,) if labels is None else (texts, keras.utils.to_categorical(labels, num_classes=3))  # Create slices\n",
    "    ds = tf.data.Dataset.from_tensor_slices(slices)  # Create dataset from slices\n",
    "    ds = ds.cache() if cache else ds  # Cache dataset if enabled\n",
    "    ds = ds.map(preprocess_fn, num_parallel_calls=AUTO)  # Map preprocessing function\n",
    "    opt = tf.data.Options()  # Create dataset options\n",
    "    if shuffle: \n",
    "        ds = ds.shuffle(shuffle, seed=CFG.seed)  # Shuffle dataset if enabled\n",
    "        opt.experimental_deterministic = False\n",
    "    ds = ds.with_options(opt)  # Set dataset options\n",
    "    ds = ds.batch(batch_size, drop_remainder=False)  # Batch dataset\n",
    "    ds = ds.prefetch(AUTO)  # Prefetch next batch\n",
    "    return ds  # Return the built dataset"
   ]
  },
  {
   "cell_type": "code",
   "execution_count": null,
   "metadata": {
    "_kg_hide-input": false,
    "execution": {
     "iopub.execute_input": "2025-05-21T08:14:41.868879Z",
     "iopub.status.busy": "2025-05-21T08:14:41.868690Z",
     "iopub.status.idle": "2025-05-21T08:14:47.203559Z",
     "shell.execute_reply": "2025-05-21T08:14:47.202626Z",
     "shell.execute_reply.started": "2025-05-21T08:14:41.868864Z"
    },
    "papermill": {
     "duration": 5.291996,
     "end_time": "2025-05-08T13:56:47.442565",
     "exception": false,
     "start_time": "2025-05-08T13:56:42.150569",
     "status": "completed"
    },
    "tags": [],
    "trusted": true
   },
   "outputs": [],
   "source": [
    "# Train\n",
    "train_texts = train_df.options.tolist()  # Extract training texts\n",
    "train_labels = train_df.class_label.tolist()  # Extract training labels\n",
    "train_ds = build_dataset(train_texts, train_labels,\n",
    "                         batch_size=CFG.batch_size,\n",
    "                         shuffle=True)\n",
    "\n",
    "# Valid\n",
    "valid_texts = valid_df.options.tolist()  # Extract validation texts\n",
    "valid_labels = valid_df.class_label.tolist()  # Extract validation labels\n",
    "valid_ds = build_dataset(valid_texts, valid_labels,\n",
    "                         batch_size=CFG.batch_size,\n",
    "                         shuffle=False)"
   ]
  },
  {
   "cell_type": "code",
   "execution_count": null,
   "metadata": {
    "_kg_hide-input": true,
    "execution": {
     "iopub.execute_input": "2025-05-21T08:14:47.204777Z",
     "iopub.status.busy": "2025-05-21T08:14:47.204486Z",
     "iopub.status.idle": "2025-05-21T08:14:47.212258Z",
     "shell.execute_reply": "2025-05-21T08:14:47.211485Z",
     "shell.execute_reply.started": "2025-05-21T08:14:47.204753Z"
    },
    "papermill": {
     "duration": 0.018442,
     "end_time": "2025-05-08T13:56:47.491471",
     "exception": false,
     "start_time": "2025-05-08T13:56:47.473029",
     "status": "completed"
    },
    "tags": [],
    "trusted": true
   },
   "outputs": [],
   "source": [
    "import math\n",
    "\n",
    "def get_lr_callback(batch_size=8, mode='cos', epochs=10, plot=False):\n",
    "    lr_start, lr_max, lr_min = 1.0e-6, 0.6e-6 * batch_size, 1e-6\n",
    "    lr_ramp_ep, lr_sus_ep, lr_decay = 2, 0, 0.8\n",
    "\n",
    "    def lrfn(epoch):  # Learning rate update function\n",
    "        if epoch < lr_ramp_ep: lr = (lr_max - lr_start) / lr_ramp_ep * epoch + lr_start\n",
    "        elif epoch < lr_ramp_ep + lr_sus_ep: lr = lr_max\n",
    "        elif mode == 'exp': lr = (lr_max - lr_min) * lr_decay**(epoch - lr_ramp_ep - lr_sus_ep) + lr_min\n",
    "        elif mode == 'step': lr = lr_max * lr_decay**((epoch - lr_ramp_ep - lr_sus_ep) // 2)\n",
    "        elif mode == 'cos':\n",
    "            decay_total_epochs, decay_epoch_index = epochs - lr_ramp_ep - lr_sus_ep + 3, epoch - lr_ramp_ep - lr_sus_ep\n",
    "            phase = math.pi * decay_epoch_index / decay_total_epochs\n",
    "            lr = (lr_max - lr_min) * 0.5 * (1 + math.cos(phase)) + lr_min\n",
    "        return lr\n",
    "\n",
    "    if plot:  # Plot lr curve if plot is True\n",
    "        plt.figure(figsize=(10, 5))\n",
    "        plt.plot(np.arange(epochs), [lrfn(epoch) for epoch in np.arange(epochs)], marker='o')\n",
    "        plt.xlabel('epoch'); plt.ylabel('lr')\n",
    "        plt.title('LR Scheduler')\n",
    "        plt.show()\n",
    "\n",
    "    return keras.callbacks.LearningRateScheduler(lrfn, verbose=False)  # Create lr callback"
   ]
  },
  {
   "cell_type": "code",
   "execution_count": null,
   "metadata": {
    "execution": {
     "iopub.execute_input": "2025-05-21T08:14:47.213264Z",
     "iopub.status.busy": "2025-05-21T08:14:47.213047Z",
     "iopub.status.idle": "2025-05-21T08:14:47.370858Z",
     "shell.execute_reply": "2025-05-21T08:14:47.370098Z",
     "shell.execute_reply.started": "2025-05-21T08:14:47.213239Z"
    },
    "papermill": {
     "duration": 0.15297,
     "end_time": "2025-05-08T13:56:47.654525",
     "exception": false,
     "start_time": "2025-05-08T13:56:47.501555",
     "status": "completed"
    },
    "tags": [],
    "trusted": true
   },
   "outputs": [],
   "source": [
    "lr_cb = get_lr_callback(CFG.batch_size, plot=True)"
   ]
  },
  {
   "cell_type": "code",
   "execution_count": null,
   "metadata": {
    "_kg_hide-input": true,
    "execution": {
     "iopub.execute_input": "2025-05-21T08:14:47.371977Z",
     "iopub.status.busy": "2025-05-21T08:14:47.371673Z",
     "iopub.status.idle": "2025-05-21T08:14:47.375757Z",
     "shell.execute_reply": "2025-05-21T08:14:47.375254Z",
     "shell.execute_reply.started": "2025-05-21T08:14:47.371955Z"
    },
    "papermill": {
     "duration": 0.015731,
     "end_time": "2025-05-08T13:56:47.702086",
     "exception": false,
     "start_time": "2025-05-08T13:56:47.686355",
     "status": "completed"
    },
    "tags": [],
    "trusted": true
   },
   "outputs": [],
   "source": [
    "ckpt_cb = keras.callbacks.ModelCheckpoint(f'best_model.weights.h5',\n",
    "                                          monitor='val_log_loss',\n",
    "                                          save_best_only=True,\n",
    "                                          save_weights_only=True,\n",
    "                                          mode='min')  # Get Model checkpoint callback"
   ]
  },
  {
   "cell_type": "code",
   "execution_count": null,
   "metadata": {
    "execution": {
     "iopub.execute_input": "2025-05-21T08:14:47.376788Z",
     "iopub.status.busy": "2025-05-21T08:14:47.376525Z",
     "iopub.status.idle": "2025-05-21T08:14:47.405683Z",
     "shell.execute_reply": "2025-05-21T08:14:47.405194Z",
     "shell.execute_reply.started": "2025-05-21T08:14:47.376765Z"
    },
    "papermill": {
     "duration": 0.042111,
     "end_time": "2025-05-08T13:56:47.776120",
     "exception": false,
     "start_time": "2025-05-08T13:56:47.734009",
     "status": "completed"
    },
    "tags": [],
    "trusted": true
   },
   "outputs": [],
   "source": [
    "log_loss = keras.metrics.CategoricalCrossentropy(name=\"log_loss\")"
   ]
  },
  {
   "cell_type": "code",
   "execution_count": null,
   "metadata": {
    "execution": {
     "iopub.execute_input": "2025-05-21T08:14:47.406596Z",
     "iopub.status.busy": "2025-05-21T08:14:47.406340Z",
     "iopub.status.idle": "2025-05-21T08:15:00.193072Z",
     "shell.execute_reply": "2025-05-21T08:15:00.192212Z",
     "shell.execute_reply.started": "2025-05-21T08:14:47.406575Z"
    },
    "papermill": {
     "duration": 7.525036,
     "end_time": "2025-05-08T13:56:55.333325",
     "exception": false,
     "start_time": "2025-05-08T13:56:47.808289",
     "status": "completed"
    },
    "tags": [],
    "trusted": true
   },
   "outputs": [],
   "source": [
    "# Define input layers\n",
    "inputs = {\n",
    "    \"token_ids\": keras.Input(shape=(2, None), dtype=tf.int32, name=\"token_ids\"),\n",
    "    \"padding_mask\": keras.Input(shape=(2, None), dtype=tf.int32, name=\"padding_mask\"),\n",
    "}\n",
    "# Create a DebertaV3Classifier backbone\n",
    "backbone = keras_nlp.models.DebertaV3Backbone.from_preset(\n",
    "    CFG.preset,\n",
    ")\n",
    "\n",
    "# Compute embeddings for first response: (P + R_A) using backbone\n",
    "response_a = {k: v[:, 0, :] for k, v in inputs.items()}\n",
    "embed_a = backbone(response_a)\n",
    "\n",
    "# Compute embeddings for second response: (P + R_B), using the same backbone\n",
    "response_b = {k: v[:, 1, :] for k, v in inputs.items()}\n",
    "embed_b = backbone(response_b)\n",
    "\n",
    "# Compute final output\n",
    "embeds = keras.layers.Concatenate(axis=-1)([embed_a, embed_b])\n",
    "embeds = keras.layers.GlobalAveragePooling1D()(embeds)\n",
    "outputs = keras.layers.Dense(3, activation=\"softmax\", name=\"classifier\")(embeds)\n",
    "model = keras.Model(inputs, outputs)\n",
    "\n",
    "# Compile the model with optimizer, loss, and metrics\n",
    "model.compile(\n",
    "    optimizer=keras.optimizers.Adam(5e-6),\n",
    "    loss=keras.losses.CategoricalCrossentropy(label_smoothing=0.02),\n",
    "    metrics=[\n",
    "        log_loss,\n",
    "        keras.metrics.CategoricalAccuracy(name=\"accuracy\"),\n",
    "    ],\n",
    ")"
   ]
  },
  {
   "cell_type": "code",
   "execution_count": null,
   "metadata": {
    "_kg_hide-input": true,
    "execution": {
     "iopub.execute_input": "2025-05-21T08:15:00.194337Z",
     "iopub.status.busy": "2025-05-21T08:15:00.194038Z",
     "iopub.status.idle": "2025-05-21T08:15:00.216906Z",
     "shell.execute_reply": "2025-05-21T08:15:00.216213Z",
     "shell.execute_reply.started": "2025-05-21T08:15:00.194319Z"
    },
    "papermill": {
     "duration": 0.03272,
     "end_time": "2025-05-08T13:56:55.398551",
     "exception": false,
     "start_time": "2025-05-08T13:56:55.365831",
     "status": "completed"
    },
    "tags": [],
    "trusted": true
   },
   "outputs": [],
   "source": [
    "model.summary()"
   ]
  },
  {
   "cell_type": "code",
   "execution_count": null,
   "metadata": {
    "_kg_hide-input": true,
    "execution": {
     "iopub.execute_input": "2025-05-21T08:15:00.217958Z",
     "iopub.status.busy": "2025-05-21T08:15:00.217668Z",
     "iopub.status.idle": "2025-05-21T08:15:00.220968Z",
     "shell.execute_reply": "2025-05-21T08:15:00.220335Z",
     "shell.execute_reply.started": "2025-05-21T08:15:00.217942Z"
    },
    "papermill": {
     "duration": 0.015295,
     "end_time": "2025-05-08T13:56:55.448541",
     "exception": false,
     "start_time": "2025-05-08T13:56:55.433246",
     "status": "completed"
    },
    "tags": [],
    "trusted": true
   },
   "outputs": [],
   "source": [
    "# Currently throwing error !! [probably library or env issue, so hopefully will be fixed soon]\n",
    "\n",
    "# keras.utils.plot_model(model, show_shapes=True, show_layer_names=True)"
   ]
  },
  {
   "cell_type": "code",
   "execution_count": null,
   "metadata": {
    "_kg_hide-input": true,
    "execution": {
     "iopub.execute_input": "2025-05-21T08:15:00.222007Z",
     "iopub.status.busy": "2025-05-21T08:15:00.221710Z",
     "iopub.status.idle": "2025-05-21T08:15:00.233028Z",
     "shell.execute_reply": "2025-05-21T08:15:00.232361Z",
     "shell.execute_reply.started": "2025-05-21T08:15:00.221991Z"
    },
    "papermill": {
     "duration": 0.01665,
     "end_time": "2025-05-08T13:56:55.498690",
     "exception": false,
     "start_time": "2025-05-08T13:56:55.482040",
     "status": "completed"
    },
    "tags": [],
    "trusted": true
   },
   "outputs": [],
   "source": [
    "'''\n",
    "import wandb\n",
    "#from wandb.keras import WandbCallback\n",
    "\n",
    "# 初始化 wandb 專案（在 fit() 之前）\n",
    "wandb.init(project=\"kerasnlp-training\", name=\"deberta-run\")\n",
    "\n",
    "# 開始訓練模型，同步記錄到 wandb\n",
    "history = model.fit(\n",
    "    train_ds,\n",
    "    epochs=CFG.epochs,\n",
    "    validation_data=valid_ds,\n",
    "    callbacks=[lr_cb, ckpt_cb, WandbCallback()]\n",
    ")\n",
    "'''"
   ]
  },
  {
   "cell_type": "code",
   "execution_count": null,
   "metadata": {
    "execution": {
     "execution_failed": "2025-05-21T08:15:10.487Z",
     "iopub.execute_input": "2025-05-21T08:15:00.234359Z",
     "iopub.status.busy": "2025-05-21T08:15:00.234143Z"
    },
    "papermill": {
     "duration": 23621.959633,
     "end_time": "2025-05-08T20:30:37.469660",
     "exception": false,
     "start_time": "2025-05-08T13:56:55.510027",
     "status": "completed"
    },
    "tags": [],
    "trusted": true
   },
   "outputs": [],
   "source": [
    "# Start training the model\n",
    "history = model.fit(\n",
    "    train_ds,\n",
    "    epochs=CFG.epochs,\n",
    "    validation_data=valid_ds,\n",
    "    callbacks=[lr_cb, ckpt_cb]\n",
    ")"
   ]
  },
  {
   "cell_type": "code",
   "execution_count": null,
   "metadata": {
    "execution": {
     "execution_failed": "2025-05-21T08:15:10.488Z"
    },
    "papermill": {
     "duration": 1.622526,
     "end_time": "2025-05-08T20:30:40.476256",
     "exception": false,
     "start_time": "2025-05-08T20:30:38.853730",
     "status": "completed"
    },
    "tags": [],
    "trusted": true
   },
   "outputs": [],
   "source": [
    "import matplotlib.pyplot as plt\n",
    "\n",
    "# 假設你模型訓練後的變數為 history\n",
    "# 比如：history = model.fit(...)\n",
    "\n",
    "# 繪製訓練與驗證 loss\n",
    "plt.figure(figsize=(12, 5))\n",
    "\n",
    "plt.subplot(1, 2, 1)\n",
    "plt.plot(history.history['loss'], label='Train Loss')\n",
    "if 'val_loss' in history.history:\n",
    "    plt.plot(history.history['val_loss'], label='Validation Loss')\n",
    "plt.title('Loss over epochs')\n",
    "plt.xlabel('Epoch')\n",
    "plt.ylabel('Loss')\n",
    "plt.legend()\n",
    "\n",
    "# 繪製訓練與驗證 accuracy（如果有的話）\n",
    "plt.subplot(1, 2, 2)\n",
    "if 'accuracy' in history.history:\n",
    "    plt.plot(history.history['accuracy'], label='Train Accuracy')\n",
    "if 'val_accuracy' in history.history:\n",
    "    plt.plot(history.history['val_accuracy'], label='Validation Accuracy')\n",
    "plt.title('Accuracy over epochs')\n",
    "plt.xlabel('Epoch')\n",
    "plt.ylabel('Accuracy')\n",
    "plt.legend()\n",
    "\n",
    "plt.tight_layout()\n",
    "plt.show()"
   ]
  },
  {
   "cell_type": "code",
   "execution_count": null,
   "metadata": {
    "execution": {
     "execution_failed": "2025-05-21T08:15:10.488Z"
    },
    "papermill": {
     "duration": 2.977416,
     "end_time": "2025-05-08T20:30:47.571171",
     "exception": false,
     "start_time": "2025-05-08T20:30:44.593755",
     "status": "completed"
    },
    "tags": [],
    "trusted": true
   },
   "outputs": [],
   "source": [
    "model.load_weights('/kaggle/working/best_model.weights.h5')"
   ]
  },
  {
   "cell_type": "code",
   "execution_count": null,
   "metadata": {
    "execution": {
     "execution_failed": "2025-05-21T08:15:10.488Z"
    },
    "papermill": {
     "duration": 2.028658,
     "end_time": "2025-05-08T20:30:53.569703",
     "exception": false,
     "start_time": "2025-05-08T20:30:51.541045",
     "status": "completed"
    },
    "tags": [],
    "trusted": true
   },
   "outputs": [],
   "source": [
    "# Build test dataset\n",
    "test_texts = test_df.options.tolist()\n",
    "test_ds = build_dataset(test_texts,\n",
    "                         batch_size=min(len(test_df), CFG.batch_size),\n",
    "                         shuffle=False)"
   ]
  },
  {
   "cell_type": "code",
   "execution_count": null,
   "metadata": {
    "execution": {
     "execution_failed": "2025-05-21T08:15:10.488Z"
    },
    "papermill": {
     "duration": 8.05995,
     "end_time": "2025-05-08T20:31:02.901826",
     "exception": false,
     "start_time": "2025-05-08T20:30:54.841876",
     "status": "completed"
    },
    "tags": [],
    "trusted": true
   },
   "outputs": [],
   "source": [
    "# Make predictions using the trained model on test data\n",
    "test_preds = model.predict(test_ds, verbose=1)"
   ]
  },
  {
   "cell_type": "code",
   "execution_count": null,
   "metadata": {
    "execution": {
     "execution_failed": "2025-05-21T08:15:10.488Z"
    },
    "papermill": {
     "duration": 1.271443,
     "end_time": "2025-05-08T20:31:08.124244",
     "exception": false,
     "start_time": "2025-05-08T20:31:06.852801",
     "status": "completed"
    },
    "tags": [],
    "trusted": true
   },
   "outputs": [],
   "source": [
    "sub_df = test_df[[\"id\"]].copy()\n",
    "sub_df[CFG.class_names] = test_preds.tolist()\n",
    "sub_df.to_csv(\"submission.csv\", index=False)\n",
    "sub_df.head()"
   ]
  }
 ],
 "metadata": {
  "kaggle": {
   "accelerator": "nvidiaTeslaT4",
   "dataSources": [
    {
     "databundleVersionId": 9809560,
     "sourceId": 86518,
     "sourceType": "competition"
    },
    {
     "modelId": 2820,
     "modelInstanceId": 4684,
     "sourceId": 6063,
     "sourceType": "modelInstanceVersion"
    },
    {
     "modelId": 2820,
     "modelInstanceId": 4686,
     "sourceId": 6065,
     "sourceType": "modelInstanceVersion"
    }
   ],
   "isGpuEnabled": true,
   "isInternetEnabled": false,
   "language": "python",
   "sourceType": "notebook"
  },
  "kernelspec": {
   "display_name": "Python 3",
   "language": "python",
   "name": "python3"
  },
  "language_info": {
   "codemirror_mode": {
    "name": "ipython",
    "version": 3
   },
   "file_extension": ".py",
   "mimetype": "text/x-python",
   "name": "python",
   "nbconvert_exporter": "python",
   "pygments_lexer": "ipython3",
   "version": "3.11.11"
  },
  "papermill": {
   "default_parameters": {},
   "duration": 23761.398896,
   "end_time": "2025-05-08T20:31:18.155391",
   "environment_variables": {},
   "exception": null,
   "input_path": "__notebook__.ipynb",
   "output_path": "__notebook__.ipynb",
   "parameters": {},
   "start_time": "2025-05-08T13:55:16.756495",
   "version": "2.5.0"
  }
 },
 "nbformat": 4,
 "nbformat_minor": 4
}
