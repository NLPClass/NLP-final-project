{
 "cells": [
  {
   "cell_type": "code",
   "execution_count": 1,
   "id": "2205a2c8",
   "metadata": {
    "_cell_guid": "b1076dfc-b9ad-4769-8c92-a6c4dae69d19",
    "_uuid": "8f2839f25d086af736a60e9eeb907d3b93b6e0e5",
    "execution": {
     "iopub.execute_input": "2025-05-08T16:25:55.321031Z",
     "iopub.status.busy": "2025-05-08T16:25:55.320839Z",
     "iopub.status.idle": "2025-05-08T16:25:57.327916Z",
     "shell.execute_reply": "2025-05-08T16:25:57.327079Z"
    },
    "papermill": {
     "duration": 2.011477,
     "end_time": "2025-05-08T16:25:57.329251",
     "exception": false,
     "start_time": "2025-05-08T16:25:55.317774",
     "status": "completed"
    },
    "tags": []
   },
   "outputs": [
    {
     "name": "stdout",
     "output_type": "stream",
     "text": [
      "/kaggle/input/llm-classification-finetuning/sample_submission.csv\n",
      "/kaggle/input/llm-classification-finetuning/train.csv\n",
      "/kaggle/input/llm-classification-finetuning/test.csv\n"
     ]
    }
   ],
   "source": [
    "# This Python 3 environment comes with many helpful analytics libraries installed\n",
    "# It is defined by the kaggle/python Docker image: https://github.com/kaggle/docker-python\n",
    "# For example, here's several helpful packages to load\n",
    "\n",
    "import numpy as np # linear algebra\n",
    "import pandas as pd # data processing, CSV file I/O (e.g. pd.read_csv)\n",
    "\n",
    "# Input data files are available in the read-only \"../input/\" directory\n",
    "# For example, running this (by clicking run or pressing Shift+Enter) will list all files under the input directory\n",
    "\n",
    "import os\n",
    "for dirname, _, filenames in os.walk('/kaggle/input'):\n",
    "    for filename in filenames:\n",
    "        print(os.path.join(dirname, filename))\n",
    "\n",
    "# You can write up to 20GB to the current directory (/kaggle/working/) that gets preserved as output when you create a version using \"Save & Run All\" \n",
    "# You can also write temporary files to /kaggle/temp/, but they won't be saved outside of the current session"
   ]
  },
  {
   "cell_type": "code",
   "execution_count": 2,
   "id": "6e059d29",
   "metadata": {
    "execution": {
     "iopub.execute_input": "2025-05-08T16:25:57.334332Z",
     "iopub.status.busy": "2025-05-08T16:25:57.334059Z",
     "iopub.status.idle": "2025-05-08T16:25:59.922786Z",
     "shell.execute_reply": "2025-05-08T16:25:59.921946Z"
    },
    "papermill": {
     "duration": 2.592743,
     "end_time": "2025-05-08T16:25:59.924323",
     "exception": false,
     "start_time": "2025-05-08T16:25:57.331580",
     "status": "completed"
    },
    "tags": []
   },
   "outputs": [],
   "source": [
    "import pandas as pd\n",
    "from sklearn.feature_extraction.text import TfidfVectorizer\n",
    "from sklearn.linear_model import LogisticRegression\n",
    "from sklearn.pipeline import Pipeline"
   ]
  },
  {
   "cell_type": "code",
   "execution_count": 3,
   "id": "74602d5a",
   "metadata": {
    "execution": {
     "iopub.execute_input": "2025-05-08T16:25:59.929254Z",
     "iopub.status.busy": "2025-05-08T16:25:59.928916Z",
     "iopub.status.idle": "2025-05-08T16:26:03.477028Z",
     "shell.execute_reply": "2025-05-08T16:26:03.476414Z"
    },
    "papermill": {
     "duration": 3.5519,
     "end_time": "2025-05-08T16:26:03.478290",
     "exception": false,
     "start_time": "2025-05-08T16:25:59.926390",
     "status": "completed"
    },
    "tags": []
   },
   "outputs": [],
   "source": [
    "# 讀取資料\n",
    "train = pd.read_csv(\"/kaggle/input/llm-classification-finetuning/train.csv\")\n",
    "test = pd.read_csv(\"/kaggle/input/llm-classification-finetuning/test.csv\")"
   ]
  },
  {
   "cell_type": "code",
   "execution_count": 4,
   "id": "3bf7d75c",
   "metadata": {
    "execution": {
     "iopub.execute_input": "2025-05-08T16:26:03.483407Z",
     "iopub.status.busy": "2025-05-08T16:26:03.482984Z",
     "iopub.status.idle": "2025-05-08T16:26:03.717547Z",
     "shell.execute_reply": "2025-05-08T16:26:03.716975Z"
    },
    "papermill": {
     "duration": 0.238501,
     "end_time": "2025-05-08T16:26:03.718986",
     "exception": false,
     "start_time": "2025-05-08T16:26:03.480485",
     "status": "completed"
    },
    "tags": []
   },
   "outputs": [],
   "source": [
    "# 建立輸入文本欄位（prompt + response）\n",
    "train['input_a'] = train['prompt'] + \" \" + train['response_a']\n",
    "train['input_b'] = train['prompt'] + \" \" + train['response_b']\n",
    "test['input_a'] = test['prompt'] + \" \" + test['response_a']\n",
    "test['input_b'] = test['prompt'] + \" \" + test['response_b']"
   ]
  },
  {
   "cell_type": "code",
   "execution_count": 5,
   "id": "530734f9",
   "metadata": {
    "execution": {
     "iopub.execute_input": "2025-05-08T16:26:03.725094Z",
     "iopub.status.busy": "2025-05-08T16:26:03.724858Z",
     "iopub.status.idle": "2025-05-08T16:26:04.032182Z",
     "shell.execute_reply": "2025-05-08T16:26:04.031624Z"
    },
    "papermill": {
     "duration": 0.31116,
     "end_time": "2025-05-08T16:26:04.033472",
     "exception": false,
     "start_time": "2025-05-08T16:26:03.722312",
     "status": "completed"
    },
    "tags": []
   },
   "outputs": [],
   "source": [
    "# winner_model_a/b/tie → label\n",
    "def infer_label(row):\n",
    "    if row[\"winner_model_a\"] == 1:\n",
    "        return 0\n",
    "    elif row[\"winner_model_b\"] == 1:\n",
    "        return 1\n",
    "    else:\n",
    "        return 2\n",
    "\n",
    "train['label'] = train.apply(infer_label, axis=1)\n"
   ]
  },
  {
   "cell_type": "code",
   "execution_count": 6,
   "id": "be3cbf66",
   "metadata": {
    "execution": {
     "iopub.execute_input": "2025-05-08T16:26:04.038187Z",
     "iopub.status.busy": "2025-05-08T16:26:04.037993Z",
     "iopub.status.idle": "2025-05-08T16:26:04.293181Z",
     "shell.execute_reply": "2025-05-08T16:26:04.292654Z"
    },
    "papermill": {
     "duration": 0.258785,
     "end_time": "2025-05-08T16:26:04.294342",
     "exception": false,
     "start_time": "2025-05-08T16:26:04.035557",
     "status": "completed"
    },
    "tags": []
   },
   "outputs": [],
   "source": [
    "# 合併 input_a 和 input_b 為一個輸入文本\n",
    "X_train = train['input_a'] + \" ||| \" + train['input_b']\n",
    "y_train = train['label']\n",
    "X_test = test['input_a'] + \" ||| \" + test['input_b']\n"
   ]
  },
  {
   "cell_type": "code",
   "execution_count": 7,
   "id": "caf54d78",
   "metadata": {
    "execution": {
     "iopub.execute_input": "2025-05-08T16:26:04.299095Z",
     "iopub.status.busy": "2025-05-08T16:26:04.298901Z",
     "iopub.status.idle": "2025-05-08T16:28:01.048257Z",
     "shell.execute_reply": "2025-05-08T16:28:01.047639Z"
    },
    "papermill": {
     "duration": 116.755521,
     "end_time": "2025-05-08T16:28:01.051966",
     "exception": false,
     "start_time": "2025-05-08T16:26:04.296445",
     "status": "completed"
    },
    "tags": []
   },
   "outputs": [
    {
     "data": {
      "text/html": [
       "<style>#sk-container-id-1 {color: black;background-color: white;}#sk-container-id-1 pre{padding: 0;}#sk-container-id-1 div.sk-toggleable {background-color: white;}#sk-container-id-1 label.sk-toggleable__label {cursor: pointer;display: block;width: 100%;margin-bottom: 0;padding: 0.3em;box-sizing: border-box;text-align: center;}#sk-container-id-1 label.sk-toggleable__label-arrow:before {content: \"▸\";float: left;margin-right: 0.25em;color: #696969;}#sk-container-id-1 label.sk-toggleable__label-arrow:hover:before {color: black;}#sk-container-id-1 div.sk-estimator:hover label.sk-toggleable__label-arrow:before {color: black;}#sk-container-id-1 div.sk-toggleable__content {max-height: 0;max-width: 0;overflow: hidden;text-align: left;background-color: #f0f8ff;}#sk-container-id-1 div.sk-toggleable__content pre {margin: 0.2em;color: black;border-radius: 0.25em;background-color: #f0f8ff;}#sk-container-id-1 input.sk-toggleable__control:checked~div.sk-toggleable__content {max-height: 200px;max-width: 100%;overflow: auto;}#sk-container-id-1 input.sk-toggleable__control:checked~label.sk-toggleable__label-arrow:before {content: \"▾\";}#sk-container-id-1 div.sk-estimator input.sk-toggleable__control:checked~label.sk-toggleable__label {background-color: #d4ebff;}#sk-container-id-1 div.sk-label input.sk-toggleable__control:checked~label.sk-toggleable__label {background-color: #d4ebff;}#sk-container-id-1 input.sk-hidden--visually {border: 0;clip: rect(1px 1px 1px 1px);clip: rect(1px, 1px, 1px, 1px);height: 1px;margin: -1px;overflow: hidden;padding: 0;position: absolute;width: 1px;}#sk-container-id-1 div.sk-estimator {font-family: monospace;background-color: #f0f8ff;border: 1px dotted black;border-radius: 0.25em;box-sizing: border-box;margin-bottom: 0.5em;}#sk-container-id-1 div.sk-estimator:hover {background-color: #d4ebff;}#sk-container-id-1 div.sk-parallel-item::after {content: \"\";width: 100%;border-bottom: 1px solid gray;flex-grow: 1;}#sk-container-id-1 div.sk-label:hover label.sk-toggleable__label {background-color: #d4ebff;}#sk-container-id-1 div.sk-serial::before {content: \"\";position: absolute;border-left: 1px solid gray;box-sizing: border-box;top: 0;bottom: 0;left: 50%;z-index: 0;}#sk-container-id-1 div.sk-serial {display: flex;flex-direction: column;align-items: center;background-color: white;padding-right: 0.2em;padding-left: 0.2em;position: relative;}#sk-container-id-1 div.sk-item {position: relative;z-index: 1;}#sk-container-id-1 div.sk-parallel {display: flex;align-items: stretch;justify-content: center;background-color: white;position: relative;}#sk-container-id-1 div.sk-item::before, #sk-container-id-1 div.sk-parallel-item::before {content: \"\";position: absolute;border-left: 1px solid gray;box-sizing: border-box;top: 0;bottom: 0;left: 50%;z-index: -1;}#sk-container-id-1 div.sk-parallel-item {display: flex;flex-direction: column;z-index: 1;position: relative;background-color: white;}#sk-container-id-1 div.sk-parallel-item:first-child::after {align-self: flex-end;width: 50%;}#sk-container-id-1 div.sk-parallel-item:last-child::after {align-self: flex-start;width: 50%;}#sk-container-id-1 div.sk-parallel-item:only-child::after {width: 0;}#sk-container-id-1 div.sk-dashed-wrapped {border: 1px dashed gray;margin: 0 0.4em 0.5em 0.4em;box-sizing: border-box;padding-bottom: 0.4em;background-color: white;}#sk-container-id-1 div.sk-label label {font-family: monospace;font-weight: bold;display: inline-block;line-height: 1.2em;}#sk-container-id-1 div.sk-label-container {text-align: center;}#sk-container-id-1 div.sk-container {/* jupyter's `normalize.less` sets `[hidden] { display: none; }` but bootstrap.min.css set `[hidden] { display: none !important; }` so we also need the `!important` here to be able to override the default hidden behavior on the sphinx rendered scikit-learn.org. See: https://github.com/scikit-learn/scikit-learn/issues/21755 */display: inline-block !important;position: relative;}#sk-container-id-1 div.sk-text-repr-fallback {display: none;}</style><div id=\"sk-container-id-1\" class=\"sk-top-container\"><div class=\"sk-text-repr-fallback\"><pre>Pipeline(steps=[(&#x27;tfidf&#x27;, TfidfVectorizer()),\n",
       "                (&#x27;clf&#x27;,\n",
       "                 LogisticRegression(max_iter=1000, multi_class=&#x27;multinomial&#x27;))])</pre><b>In a Jupyter environment, please rerun this cell to show the HTML representation or trust the notebook. <br />On GitHub, the HTML representation is unable to render, please try loading this page with nbviewer.org.</b></div><div class=\"sk-container\" hidden><div class=\"sk-item sk-dashed-wrapped\"><div class=\"sk-label-container\"><div class=\"sk-label sk-toggleable\"><input class=\"sk-toggleable__control sk-hidden--visually\" id=\"sk-estimator-id-1\" type=\"checkbox\" ><label for=\"sk-estimator-id-1\" class=\"sk-toggleable__label sk-toggleable__label-arrow\">Pipeline</label><div class=\"sk-toggleable__content\"><pre>Pipeline(steps=[(&#x27;tfidf&#x27;, TfidfVectorizer()),\n",
       "                (&#x27;clf&#x27;,\n",
       "                 LogisticRegression(max_iter=1000, multi_class=&#x27;multinomial&#x27;))])</pre></div></div></div><div class=\"sk-serial\"><div class=\"sk-item\"><div class=\"sk-estimator sk-toggleable\"><input class=\"sk-toggleable__control sk-hidden--visually\" id=\"sk-estimator-id-2\" type=\"checkbox\" ><label for=\"sk-estimator-id-2\" class=\"sk-toggleable__label sk-toggleable__label-arrow\">TfidfVectorizer</label><div class=\"sk-toggleable__content\"><pre>TfidfVectorizer()</pre></div></div></div><div class=\"sk-item\"><div class=\"sk-estimator sk-toggleable\"><input class=\"sk-toggleable__control sk-hidden--visually\" id=\"sk-estimator-id-3\" type=\"checkbox\" ><label for=\"sk-estimator-id-3\" class=\"sk-toggleable__label sk-toggleable__label-arrow\">LogisticRegression</label><div class=\"sk-toggleable__content\"><pre>LogisticRegression(max_iter=1000, multi_class=&#x27;multinomial&#x27;)</pre></div></div></div></div></div></div></div>"
      ],
      "text/plain": [
       "Pipeline(steps=[('tfidf', TfidfVectorizer()),\n",
       "                ('clf',\n",
       "                 LogisticRegression(max_iter=1000, multi_class='multinomial'))])"
      ]
     },
     "execution_count": 7,
     "metadata": {},
     "output_type": "execute_result"
    }
   ],
   "source": [
    "# TF-IDF + LogisticRegression\n",
    "model = Pipeline([\n",
    "    ('tfidf', TfidfVectorizer()),\n",
    "    ('clf', LogisticRegression(max_iter=1000, multi_class='multinomial'))\n",
    "])\n",
    "model.fit(X_train, y_train)"
   ]
  },
  {
   "cell_type": "code",
   "execution_count": 8,
   "id": "e255febc",
   "metadata": {
    "execution": {
     "iopub.execute_input": "2025-05-08T16:28:01.058981Z",
     "iopub.status.busy": "2025-05-08T16:28:01.058746Z",
     "iopub.status.idle": "2025-05-08T16:28:01.075671Z",
     "shell.execute_reply": "2025-05-08T16:28:01.075069Z"
    },
    "papermill": {
     "duration": 0.021927,
     "end_time": "2025-05-08T16:28:01.076965",
     "exception": false,
     "start_time": "2025-05-08T16:28:01.055038",
     "status": "completed"
    },
    "tags": []
   },
   "outputs": [],
   "source": [
    "# 預測機率\n",
    "probs = model.predict_proba(X_test)"
   ]
  },
  {
   "cell_type": "code",
   "execution_count": 9,
   "id": "95eb2ce9",
   "metadata": {
    "execution": {
     "iopub.execute_input": "2025-05-08T16:28:01.084351Z",
     "iopub.status.busy": "2025-05-08T16:28:01.084071Z",
     "iopub.status.idle": "2025-05-08T16:28:01.095442Z",
     "shell.execute_reply": "2025-05-08T16:28:01.094935Z"
    },
    "papermill": {
     "duration": 0.016335,
     "end_time": "2025-05-08T16:28:01.096653",
     "exception": false,
     "start_time": "2025-05-08T16:28:01.080318",
     "status": "completed"
    },
    "tags": []
   },
   "outputs": [],
   "source": [
    "# 輸出 submission.csv（這是 Kaggle 評分系統要看的）\n",
    "submission = pd.DataFrame({\n",
    "    'id': test['id'],\n",
    "    'winner_model_a': probs[:, 0],\n",
    "    'winner_model_b': probs[:, 1],\n",
    "    'winner_model_tie': probs[:, 2]\n",
    "})\n",
    "submission.to_csv(\"submission.csv\", index=False)"
   ]
  }
 ],
 "metadata": {
  "kaggle": {
   "accelerator": "nvidiaTeslaT4",
   "dataSources": [
    {
     "databundleVersionId": 9809560,
     "sourceId": 86518,
     "sourceType": "competition"
    }
   ],
   "dockerImageVersionId": 31011,
   "isGpuEnabled": true,
   "isInternetEnabled": false,
   "language": "python",
   "sourceType": "notebook"
  },
  "kernelspec": {
   "display_name": "Python 3",
   "language": "python",
   "name": "python3"
  },
  "language_info": {
   "codemirror_mode": {
    "name": "ipython",
    "version": 3
   },
   "file_extension": ".py",
   "mimetype": "text/x-python",
   "name": "python",
   "nbconvert_exporter": "python",
   "pygments_lexer": "ipython3",
   "version": "3.11.11"
  },
  "papermill": {
   "default_parameters": {},
   "duration": 132.307823,
   "end_time": "2025-05-08T16:28:01.717294",
   "environment_variables": {},
   "exception": null,
   "input_path": "__notebook__.ipynb",
   "output_path": "__notebook__.ipynb",
   "parameters": {},
   "start_time": "2025-05-08T16:25:49.409471",
   "version": "2.6.0"
  }
 },
 "nbformat": 4,
 "nbformat_minor": 5
}
